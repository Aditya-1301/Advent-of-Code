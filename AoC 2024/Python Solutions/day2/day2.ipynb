{
 "cells": [
  {
   "cell_type": "markdown",
   "metadata": {},
   "source": [
    "# Day 2"
   ]
  },
  {
   "cell_type": "markdown",
   "metadata": {},
   "source": [
    "### Part 1"
   ]
  },
  {
   "cell_type": "code",
   "execution_count": null,
   "metadata": {},
   "outputs": [],
   "source": [
    "import math\n",
    "import numpy as np"
   ]
  },
  {
   "cell_type": "code",
   "execution_count": null,
   "metadata": {},
   "outputs": [],
   "source": [
    "def all_dec(lst):\n",
    "    for i in range(len(lst)-1):\n",
    "        if lst[i] < lst[i+1]:\n",
    "            return False\n",
    "    return True\n",
    "\n",
    "def all_inc(lst):\n",
    "    for i in range(len(lst)-1):\n",
    "        if lst[i] > lst[i+1]:\n",
    "            return False\n",
    "    return True"
   ]
  },
  {
   "cell_type": "code",
   "execution_count": null,
   "metadata": {},
   "outputs": [],
   "source": [
    "f = open(\"test2.txt\")\n",
    "safe_count = 0\n",
    "for i in f:\n",
    "    print(\"--------------------------\")\n",
    "    i1 = [int(j) for j in i.split()]\n",
    "    print(i1)\n",
    "    unsafe_flag = False\n",
    "    print(all_dec(i1), all_inc(i1))\n",
    "    if all_dec(i1) or all_inc(i1):\n",
    "        for j in range(len(i1)-1):\n",
    "            absdif = abs(i1[j] - i1[j+1])\n",
    "            print(absdif, end=\" \")\n",
    "            if 1 > absdif or absdif > 3:\n",
    "                print(\"UNSAFE!\")\n",
    "                unsafe_flag = True\n",
    "                break\n",
    "    else:\n",
    "        unsafe_flag = True\n",
    "    print()\n",
    "    print(\"Safe Count:\", safe_count)\n",
    "    if unsafe_flag:\n",
    "        unsafe_flag = False\n",
    "    else:\n",
    "        \n",
    "        safe_count += 1\n",
    "        print(\"SAFE INCREASE!!!\", safe_count)\n",
    "safe_count"
   ]
  },
  {
   "cell_type": "markdown",
   "metadata": {},
   "source": [
    "### Part 2"
   ]
  },
  {
   "cell_type": "code",
   "execution_count": null,
   "metadata": {},
   "outputs": [],
   "source": [
    "def dif_lst2(lst):\n",
    "    difs = []\n",
    "    n = len(lst)\n",
    "    for i in range(n-1):\n",
    "        absdif = abs(lst[i] - lst[i+1])\n",
    "        if absdif > 3 or absdif < 1:\n",
    "            return []\n",
    "        else:\n",
    "            difs.append(absdif)\n",
    "    return difs\n",
    "\n",
    "def dif_lst(lst):\n",
    "    difs = []\n",
    "    dampen = 0\n",
    "    n = len(lst)\n",
    "    for i in range(n-1):\n",
    "        absdif = abs(lst[i] - lst[i+1])\n",
    "        if absdif > 3 or absdif < 1 and dampen < 2 and (all_dec(lst) or all_inc(lst)):\n",
    "            dampen += 1\n",
    "            lst = lst[:i] + lst[i+1:]\n",
    "            return lst, dif_lst2(lst)\n",
    "        elif dampen >= 2:\n",
    "            return lst, []\n",
    "        else:\n",
    "            difs.append(absdif)\n",
    "    return lst, difs"
   ]
  },
  {
   "cell_type": "code",
   "execution_count": null,
   "metadata": {},
   "outputs": [],
   "source": [
    "f = open(\"test2.txt\")\n",
    "safe_count = 0\n",
    "for i in f:\n",
    "    print(\"--------------------------\")\n",
    "    i1 = [int(j) for j in i.split()]\n",
    "    print(i1)\n",
    "    ls, difs = dif_lst(i1)\n",
    "    print(ls, difs)\n",
    "    if difs == []:\n",
    "        print(\"UNSAFE\")\n",
    "    else:\n",
    "        safe_count += 1    \n",
    "    print(safe_count)\n",
    "safe_count"
   ]
  }
 ],
 "metadata": {
  "kernelspec": {
   "display_name": "base",
   "language": "python",
   "name": "python3"
  },
  "language_info": {
   "codemirror_mode": {
    "name": "ipython",
    "version": 3
   },
   "file_extension": ".py",
   "mimetype": "text/x-python",
   "name": "python",
   "nbconvert_exporter": "python",
   "pygments_lexer": "ipython3",
   "version": "3.9.13"
  }
 },
 "nbformat": 4,
 "nbformat_minor": 2
}
